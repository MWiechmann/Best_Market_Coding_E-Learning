{
 "cells": [
  {
   "cell_type": "markdown",
   "id": "active-branch",
   "metadata": {},
   "source": [
    "This project aims mostly to practice some data analysis skills using relatively basic summary statistics\n",
    "\n",
    "The assumption of this project is to find the best market to advertise in for an e-learning company that offers courses on programming."
   ]
  },
  {
   "cell_type": "markdown",
   "id": "raised-asset",
   "metadata": {},
   "source": [
    "# Dataset used in this project\n",
    "I will be using data from [freeCodeCamp's 2017 New Coder Survey](https://www.freecodecamp.org/news/we-asked-20-000-people-who-they-are-and-how-theyre-learning-to-code-fff5d668969/). Free Code Camp runs a popular Medium publication, so their survey attracted a relatively wide of new coders\n",
    "The dataset can be obtained [here](https://github.com/freeCodeCamp/2017-new-coder-survey)"
   ]
  },
  {
   "cell_type": "code",
   "execution_count": 164,
   "id": "upper-feelings",
   "metadata": {},
   "outputs": [
    {
     "data": {
      "text/html": [
       "<div>\n",
       "<style scoped>\n",
       "    .dataframe tbody tr th:only-of-type {\n",
       "        vertical-align: middle;\n",
       "    }\n",
       "\n",
       "    .dataframe tbody tr th {\n",
       "        vertical-align: top;\n",
       "    }\n",
       "\n",
       "    .dataframe thead th {\n",
       "        text-align: right;\n",
       "    }\n",
       "</style>\n",
       "<table border=\"1\" class=\"dataframe\">\n",
       "  <thead>\n",
       "    <tr style=\"text-align: right;\">\n",
       "      <th></th>\n",
       "      <th>Age</th>\n",
       "      <th>AttendedBootcamp</th>\n",
       "      <th>BootcampFinish</th>\n",
       "      <th>BootcampLoanYesNo</th>\n",
       "      <th>BootcampName</th>\n",
       "      <th>BootcampRecommend</th>\n",
       "      <th>ChildrenNumber</th>\n",
       "      <th>CityPopulation</th>\n",
       "      <th>CodeEventConferences</th>\n",
       "      <th>CodeEventDjangoGirls</th>\n",
       "      <th>...</th>\n",
       "      <th>YouTubeFCC</th>\n",
       "      <th>YouTubeFunFunFunction</th>\n",
       "      <th>YouTubeGoogleDev</th>\n",
       "      <th>YouTubeLearnCode</th>\n",
       "      <th>YouTubeLevelUpTuts</th>\n",
       "      <th>YouTubeMIT</th>\n",
       "      <th>YouTubeMozillaHacks</th>\n",
       "      <th>YouTubeOther</th>\n",
       "      <th>YouTubeSimplilearn</th>\n",
       "      <th>YouTubeTheNewBoston</th>\n",
       "    </tr>\n",
       "  </thead>\n",
       "  <tbody>\n",
       "    <tr>\n",
       "      <th>0</th>\n",
       "      <td>27.0</td>\n",
       "      <td>0.0</td>\n",
       "      <td>NaN</td>\n",
       "      <td>NaN</td>\n",
       "      <td>NaN</td>\n",
       "      <td>NaN</td>\n",
       "      <td>NaN</td>\n",
       "      <td>more than 1 million</td>\n",
       "      <td>NaN</td>\n",
       "      <td>NaN</td>\n",
       "      <td>...</td>\n",
       "      <td>NaN</td>\n",
       "      <td>NaN</td>\n",
       "      <td>NaN</td>\n",
       "      <td>NaN</td>\n",
       "      <td>NaN</td>\n",
       "      <td>NaN</td>\n",
       "      <td>NaN</td>\n",
       "      <td>NaN</td>\n",
       "      <td>NaN</td>\n",
       "      <td>NaN</td>\n",
       "    </tr>\n",
       "    <tr>\n",
       "      <th>1</th>\n",
       "      <td>34.0</td>\n",
       "      <td>0.0</td>\n",
       "      <td>NaN</td>\n",
       "      <td>NaN</td>\n",
       "      <td>NaN</td>\n",
       "      <td>NaN</td>\n",
       "      <td>NaN</td>\n",
       "      <td>less than 100,000</td>\n",
       "      <td>NaN</td>\n",
       "      <td>NaN</td>\n",
       "      <td>...</td>\n",
       "      <td>1.0</td>\n",
       "      <td>NaN</td>\n",
       "      <td>NaN</td>\n",
       "      <td>NaN</td>\n",
       "      <td>NaN</td>\n",
       "      <td>NaN</td>\n",
       "      <td>NaN</td>\n",
       "      <td>NaN</td>\n",
       "      <td>NaN</td>\n",
       "      <td>NaN</td>\n",
       "    </tr>\n",
       "    <tr>\n",
       "      <th>2</th>\n",
       "      <td>21.0</td>\n",
       "      <td>0.0</td>\n",
       "      <td>NaN</td>\n",
       "      <td>NaN</td>\n",
       "      <td>NaN</td>\n",
       "      <td>NaN</td>\n",
       "      <td>NaN</td>\n",
       "      <td>more than 1 million</td>\n",
       "      <td>NaN</td>\n",
       "      <td>NaN</td>\n",
       "      <td>...</td>\n",
       "      <td>NaN</td>\n",
       "      <td>NaN</td>\n",
       "      <td>NaN</td>\n",
       "      <td>1.0</td>\n",
       "      <td>1.0</td>\n",
       "      <td>NaN</td>\n",
       "      <td>NaN</td>\n",
       "      <td>NaN</td>\n",
       "      <td>NaN</td>\n",
       "      <td>NaN</td>\n",
       "    </tr>\n",
       "    <tr>\n",
       "      <th>3</th>\n",
       "      <td>26.0</td>\n",
       "      <td>0.0</td>\n",
       "      <td>NaN</td>\n",
       "      <td>NaN</td>\n",
       "      <td>NaN</td>\n",
       "      <td>NaN</td>\n",
       "      <td>NaN</td>\n",
       "      <td>between 100,000 and 1 million</td>\n",
       "      <td>NaN</td>\n",
       "      <td>NaN</td>\n",
       "      <td>...</td>\n",
       "      <td>1.0</td>\n",
       "      <td>1.0</td>\n",
       "      <td>NaN</td>\n",
       "      <td>NaN</td>\n",
       "      <td>1.0</td>\n",
       "      <td>NaN</td>\n",
       "      <td>NaN</td>\n",
       "      <td>NaN</td>\n",
       "      <td>NaN</td>\n",
       "      <td>NaN</td>\n",
       "    </tr>\n",
       "    <tr>\n",
       "      <th>4</th>\n",
       "      <td>20.0</td>\n",
       "      <td>0.0</td>\n",
       "      <td>NaN</td>\n",
       "      <td>NaN</td>\n",
       "      <td>NaN</td>\n",
       "      <td>NaN</td>\n",
       "      <td>NaN</td>\n",
       "      <td>between 100,000 and 1 million</td>\n",
       "      <td>NaN</td>\n",
       "      <td>NaN</td>\n",
       "      <td>...</td>\n",
       "      <td>NaN</td>\n",
       "      <td>NaN</td>\n",
       "      <td>NaN</td>\n",
       "      <td>NaN</td>\n",
       "      <td>NaN</td>\n",
       "      <td>NaN</td>\n",
       "      <td>NaN</td>\n",
       "      <td>NaN</td>\n",
       "      <td>NaN</td>\n",
       "      <td>NaN</td>\n",
       "    </tr>\n",
       "  </tbody>\n",
       "</table>\n",
       "<p>5 rows × 136 columns</p>\n",
       "</div>"
      ],
      "text/plain": [
       "    Age  AttendedBootcamp  BootcampFinish  BootcampLoanYesNo BootcampName  \\\n",
       "0  27.0               0.0             NaN                NaN          NaN   \n",
       "1  34.0               0.0             NaN                NaN          NaN   \n",
       "2  21.0               0.0             NaN                NaN          NaN   \n",
       "3  26.0               0.0             NaN                NaN          NaN   \n",
       "4  20.0               0.0             NaN                NaN          NaN   \n",
       "\n",
       "   BootcampRecommend  ChildrenNumber                 CityPopulation  \\\n",
       "0                NaN             NaN            more than 1 million   \n",
       "1                NaN             NaN              less than 100,000   \n",
       "2                NaN             NaN            more than 1 million   \n",
       "3                NaN             NaN  between 100,000 and 1 million   \n",
       "4                NaN             NaN  between 100,000 and 1 million   \n",
       "\n",
       "   CodeEventConferences  CodeEventDjangoGirls  ...  YouTubeFCC  \\\n",
       "0                   NaN                   NaN  ...         NaN   \n",
       "1                   NaN                   NaN  ...         1.0   \n",
       "2                   NaN                   NaN  ...         NaN   \n",
       "3                   NaN                   NaN  ...         1.0   \n",
       "4                   NaN                   NaN  ...         NaN   \n",
       "\n",
       "   YouTubeFunFunFunction  YouTubeGoogleDev  YouTubeLearnCode  \\\n",
       "0                    NaN               NaN               NaN   \n",
       "1                    NaN               NaN               NaN   \n",
       "2                    NaN               NaN               1.0   \n",
       "3                    1.0               NaN               NaN   \n",
       "4                    NaN               NaN               NaN   \n",
       "\n",
       "   YouTubeLevelUpTuts  YouTubeMIT  YouTubeMozillaHacks YouTubeOther  \\\n",
       "0                 NaN         NaN                  NaN          NaN   \n",
       "1                 NaN         NaN                  NaN          NaN   \n",
       "2                 1.0         NaN                  NaN          NaN   \n",
       "3                 1.0         NaN                  NaN          NaN   \n",
       "4                 NaN         NaN                  NaN          NaN   \n",
       "\n",
       "   YouTubeSimplilearn  YouTubeTheNewBoston  \n",
       "0                 NaN                  NaN  \n",
       "1                 NaN                  NaN  \n",
       "2                 NaN                  NaN  \n",
       "3                 NaN                  NaN  \n",
       "4                 NaN                  NaN  \n",
       "\n",
       "[5 rows x 136 columns]"
      ]
     },
     "execution_count": 164,
     "metadata": {},
     "output_type": "execute_result"
    }
   ],
   "source": [
    "import pandas as pd\n",
    "import matplotlib.pyplot as plt\n",
    "survey = pd.read_csv(\"2017-fCC-New-Coders-Survey-Data.csv\", low_memory = False)\n",
    "survey.head()"
   ]
  },
  {
   "cell_type": "markdown",
   "id": "lined-mumbai",
   "metadata": {},
   "source": [
    "We are interested in the locations of the survey population, the locations with greatest number of new coders and how much money potential clients would be interested to spend.\n",
    "The dataset has a large number of variables that are not of interest for this project so we will filter out only a selected number of columns."
   ]
  },
  {
   "cell_type": "code",
   "execution_count": 165,
   "id": "surprised-nightlife",
   "metadata": {},
   "outputs": [
    {
     "data": {
      "text/plain": [
       "Index(['Age', 'AttendedBootcamp', 'BootcampFinish', 'BootcampLoanYesNo',\n",
       "       'BootcampName', 'BootcampRecommend', 'ChildrenNumber', 'CityPopulation',\n",
       "       'CodeEventConferences', 'CodeEventDjangoGirls', 'CodeEventFCC',\n",
       "       'CodeEventGameJam', 'CodeEventGirlDev', 'CodeEventHackathons',\n",
       "       'CodeEventMeetup', 'CodeEventNodeSchool', 'CodeEventNone',\n",
       "       'CodeEventOther', 'CodeEventRailsBridge', 'CodeEventRailsGirls',\n",
       "       'CodeEventStartUpWknd', 'CodeEventWkdBootcamps', 'CodeEventWomenCode',\n",
       "       'CodeEventWorkshops', 'CommuteTime', 'CountryCitizen', 'CountryLive',\n",
       "       'EmploymentField', 'EmploymentFieldOther', 'EmploymentStatus',\n",
       "       'EmploymentStatusOther', 'ExpectedEarning', 'FinanciallySupporting',\n",
       "       'FirstDevJob', 'Gender', 'GenderOther', 'HasChildren', 'HasDebt',\n",
       "       'HasFinancialDependents', 'HasHighSpdInternet'],\n",
       "      dtype='object')"
      ]
     },
     "execution_count": 165,
     "metadata": {},
     "output_type": "execute_result"
    }
   ],
   "source": [
    "survey.columns[:40]"
   ]
  },
  {
   "cell_type": "code",
   "execution_count": 166,
   "id": "swiss-earthquake",
   "metadata": {},
   "outputs": [
    {
     "data": {
      "text/plain": [
       "Index(['HasHomeMortgage', 'HasServedInMilitary', 'HasStudentDebt',\n",
       "       'HomeMortgageOwe', 'HoursLearning', 'ID.x', 'ID.y', 'Income',\n",
       "       'IsEthnicMinority', 'IsReceiveDisabilitiesBenefits', 'IsSoftwareDev',\n",
       "       'IsUnderEmployed', 'JobApplyWhen', 'JobInterestBackEnd',\n",
       "       'JobInterestDataEngr', 'JobInterestDataSci', 'JobInterestDevOps',\n",
       "       'JobInterestFrontEnd', 'JobInterestFullStack', 'JobInterestGameDev',\n",
       "       'JobInterestInfoSec', 'JobInterestMobile', 'JobInterestOther',\n",
       "       'JobInterestProjMngr', 'JobInterestQAEngr', 'JobInterestUX', 'JobPref',\n",
       "       'JobRelocateYesNo', 'JobRoleInterest', 'JobWherePref', 'LanguageAtHome',\n",
       "       'MaritalStatus', 'MoneyForLearning', 'MonthsProgramming', 'NetworkID',\n",
       "       'Part1EndTime', 'Part1StartTime', 'Part2EndTime', 'Part2StartTime',\n",
       "       'PodcastChangeLog', 'PodcastCodeNewbie', 'PodcastCodePen',\n",
       "       'PodcastDevTea', 'PodcastDotNET', 'PodcastGiantRobots', 'PodcastJSAir',\n",
       "       'PodcastJSJabber', 'PodcastNone', 'PodcastOther',\n",
       "       'PodcastProgThrowdown', 'PodcastRubyRogues', 'PodcastSEDaily',\n",
       "       'PodcastSERadio', 'PodcastShopTalk', 'PodcastTalkPython',\n",
       "       'PodcastTheWebAhead', 'ResourceCodecademy', 'ResourceCodeWars',\n",
       "       'ResourceCoursera', 'ResourceCSS', 'ResourceEdX', 'ResourceEgghead',\n",
       "       'ResourceFCC', 'ResourceHackerRank', 'ResourceKA', 'ResourceLynda',\n",
       "       'ResourceMDN', 'ResourceOdinProj', 'ResourceOther',\n",
       "       'ResourcePluralSight', 'ResourceSkillcrush', 'ResourceSO',\n",
       "       'ResourceTreehouse', 'ResourceUdacity', 'ResourceUdemy', 'ResourceW3S',\n",
       "       'SchoolDegree', 'SchoolMajor', 'StudentDebtOwe', 'YouTubeCodeCourse',\n",
       "       'YouTubeCodingTrain', 'YouTubeCodingTut360', 'YouTubeComputerphile',\n",
       "       'YouTubeDerekBanas', 'YouTubeDevTips', 'YouTubeEngineeredTruth',\n",
       "       'YouTubeFCC', 'YouTubeFunFunFunction', 'YouTubeGoogleDev',\n",
       "       'YouTubeLearnCode', 'YouTubeLevelUpTuts', 'YouTubeMIT',\n",
       "       'YouTubeMozillaHacks', 'YouTubeOther', 'YouTubeSimplilearn',\n",
       "       'YouTubeTheNewBoston'],\n",
       "      dtype='object')"
      ]
     },
     "execution_count": 166,
     "metadata": {},
     "output_type": "execute_result"
    }
   ],
   "source": [
    "survey.columns[40:]"
   ]
  },
  {
   "cell_type": "code",
   "execution_count": 167,
   "id": "sporting-anniversary",
   "metadata": {},
   "outputs": [],
   "source": [
    "relevant_cols = [\"Age\", \"Gender\", \"CountryLive\", \"MoneyForLearning\", \"JobRoleInterest\", \"MonthsProgramming\"] \n",
    "#MoneyForLearning = money spent on learnng to code (aside from university tuition) in USD\n",
    "survey = survey[relevant_cols]"
   ]
  },
  {
   "cell_type": "markdown",
   "id": "extreme-spelling",
   "metadata": {},
   "source": [
    "# Is the sample representative (enough) for our population of interest?\n",
    "Does this sample contain enough respondents interested in the kind of roles that our company offers courses for? (Assuming that offer mostly courses about web and mobile development, but also cover many other domains, like data science, game development, etc.)"
   ]
  },
  {
   "cell_type": "code",
   "execution_count": 168,
   "id": "anticipated-integral",
   "metadata": {},
   "outputs": [
    {
     "data": {
      "text/plain": [
       "  User Experience Designer,   Mobile Developer, Full-Stack Web Developer,   Front-End Web Developer, Game Developer     1\n",
       "  Mobile Developer, Full-Stack Web Developer, Game Developer                                                            1\n",
       "Full-Stack Web Developer,   Data Scientist, Information Security, Data Engineer,   DevOps / SysAdmin                    1\n",
       "Back-End Web Developer,   Front-End Web Developer, Information Security,   Product Manager, Full-Stack Web Developer    1\n",
       "Data Engineer, Back-End Web Developer,   DevOps / SysAdmin,   Front-End Web Developer, Full-Stack Web Developer         1\n",
       "Name: JobRoleInterest, dtype: int64"
      ]
     },
     "execution_count": 168,
     "metadata": {},
     "output_type": "execute_result"
    }
   ],
   "source": [
    "survey[\"JobRoleInterest\"].value_counts().tail()"
   ]
  },
  {
   "cell_type": "code",
   "execution_count": 169,
   "id": "egyptian-namibia",
   "metadata": {},
   "outputs": [],
   "source": [
    "# respondent can tick more than one response - this needs to be sorted\n",
    "survey[\"JobRoleInterest\"] = survey[\"JobRoleInterest\"].str.strip().str.split(r\", +\")"
   ]
  },
  {
   "cell_type": "code",
   "execution_count": 170,
   "id": "changed-damage",
   "metadata": {},
   "outputs": [],
   "source": [
    "job_int_count_dict = {}\n",
    "for index, int_list in survey[\"JobRoleInterest\"].iteritems():\n",
    "    if type(int_list) == list:\n",
    "        for value in int_list:\n",
    "            if value in job_int_count_dict:\n",
    "                job_int_count_dict[value] += 1\n",
    "            else:\n",
    "                job_int_count_dict[value] = 1"
   ]
  },
  {
   "cell_type": "code",
   "execution_count": 171,
   "id": "latest-friendship",
   "metadata": {},
   "outputs": [],
   "source": [
    "job_int_count = pd.Series(job_int_count_dict)"
   ]
  },
  {
   "cell_type": "code",
   "execution_count": 172,
   "id": "aggressive-contract",
   "metadata": {},
   "outputs": [
    {
     "name": "stdout",
     "output_type": "stream",
     "text": [
      "Top 15 Job Interests in %\n"
     ]
    },
    {
     "data": {
      "text/plain": [
       "Full-Stack Web Developer      18.575221\n",
       "Front-End Web Developer       15.632743\n",
       "Back-End Web Developer        12.265487\n",
       "Mobile Developer              10.194690\n",
       "Data Scientist                 7.269912\n",
       "Game Developer                 7.203540\n",
       "User Experience Designer       6.500000\n",
       "Information Security           5.867257\n",
       "Data Engineer                  5.522124\n",
       "DevOps / SysAdmin              4.101770\n",
       "Product Manager                3.601770\n",
       "Quality Assurance Engineer     2.203540\n",
       "Software Engineer              0.048673\n",
       "Software Developer             0.026549\n",
       "Software engineer              0.017699\n",
       "dtype: float64"
      ]
     },
     "execution_count": 172,
     "metadata": {},
     "output_type": "execute_result"
    }
   ],
   "source": [
    "job_int_count.sort_values(ascending=False,inplace=True)\n",
    "job_int_pcts = (job_int_count/job_int_count.sum())*100\n",
    "print(\"Top 15 Job Interests in %\")\n",
    "job_int_pcts.head(15)"
   ]
  },
  {
   "cell_type": "code",
   "execution_count": 173,
   "id": "forty-incidence",
   "metadata": {},
   "outputs": [
    {
     "data": {
      "text/plain": [
       "(0.0, 20.0)"
      ]
     },
     "execution_count": 173,
     "metadata": {},
     "output_type": "execute_result"
    },
    {
     "data": {
      "image/png": "[encoded data removed]",
      "text/plain": [
       "<Figure size 720x504 with 1 Axes>"
      ]
     },
     "metadata": {
      "needs_background": "light"
     },
     "output_type": "display_data"
    }
   ],
   "source": [
    "%matplotlib inline\n",
    "ax = job_int_pcts.head(10).sort_values().plot.barh(figsize = (10,7), fontsize = 12)\n",
    "ax.set_title(\"Top 10 Job Interests in % (Multiple Answers Possible)\", fontsize= 14)\n",
    "ax.set_xlim(0,20)"
   ]
  },
  {
   "cell_type": "markdown",
   "id": "tough-depression",
   "metadata": {},
   "source": [
    "Most respondents were interested in some form of web development, Data Science and Game Development follows after that. So the sample should be representative enough for the target group."
   ]
  },
  {
   "cell_type": "markdown",
   "id": "suitable-brush",
   "metadata": {},
   "source": [
    "# Where are new coders located?\n",
    "After we concluded that the sample has enough respondents of the right categories we can analyze which countries have the highest number of the target population."
   ]
  },
  {
   "cell_type": "code",
   "execution_count": 174,
   "id": "metallic-spider",
   "metadata": {},
   "outputs": [],
   "source": [
    "# Drop out participants that did not indicate their job interests\n",
    "survey_filtered = survey.copy()\n",
    "survey_filtered = survey_filtered[survey_filtered[\"JobRoleInterest\"].notna()]"
   ]
  },
  {
   "cell_type": "code",
   "execution_count": 175,
   "id": "specialized-editor",
   "metadata": {},
   "outputs": [
    {
     "data": {
      "text/plain": [
       "United States of America    3125\n",
       "India                        528\n",
       "United Kingdom               315\n",
       "Canada                       260\n",
       "Poland                       131\n",
       "Brazil                       129\n",
       "Germany                      125\n",
       "Australia                    112\n",
       "Russia                       102\n",
       "Ukraine                       89\n",
       "Name: CountryLive, dtype: int64"
      ]
     },
     "execution_count": 175,
     "metadata": {},
     "output_type": "execute_result"
    }
   ],
   "source": [
    "survey_filtered[\"CountryLive\"].value_counts().head(10)"
   ]
  },
  {
   "cell_type": "code",
   "execution_count": 176,
   "id": "portuguese-making",
   "metadata": {},
   "outputs": [
    {
     "data": {
      "text/plain": [
       "United States of America    0.457005\n",
       "India                       0.077216\n",
       "United Kingdom              0.046066\n",
       "Canada                      0.038023\n",
       "Poland                      0.019158\n",
       "Name: CountryLive, dtype: float64"
      ]
     },
     "execution_count": 176,
     "metadata": {},
     "output_type": "execute_result"
    }
   ],
   "source": [
    "survey_filtered[\"CountryLive\"].value_counts(normalize=True).head(5)"
   ]
  },
  {
   "cell_type": "code",
   "execution_count": 177,
   "id": "active-shaft",
   "metadata": {},
   "outputs": [
    {
     "data": {
      "text/plain": [
       "(0.0, 50.0)"
      ]
     },
     "execution_count": 177,
     "metadata": {},
     "output_type": "execute_result"
    },
    {
     "data": {
      "image/png": "[encoded data removed]",
      "text/plain": [
       "<Figure size 720x504 with 1 Axes>"
      ]
     },
     "metadata": {
      "needs_background": "light"
     },
     "output_type": "display_data"
    }
   ],
   "source": [
    "country_t10_pct=survey_filtered[\"CountryLive\"].value_counts(normalize=True).head(5).sort_values()\n",
    "ax = (country_t10_pct*100).plot.barh(figsize = (10,7), fontsize = 12)\n",
    "ax.set_title(\"Top 5 Countries of New Coders in %\", fontsize= 14)\n",
    "ax.set_xlim((0,50))"
   ]
  },
  {
   "cell_type": "markdown",
   "id": "covered-going",
   "metadata": {},
   "source": [
    "Most respondents that indicated which job role they would be interested in come either from the USA (46%), India (8%), UK (5%) or Canada (4%).\n",
    "Since English is an official language in all of these countries, they would be a good match to advertise in (assuming our courses are in English). Further analysis will determine if these countries actually have new coders that are also willing to pay for a monthly subscription (assuming $59)."
   ]
  },
  {
   "cell_type": "markdown",
   "id": "elder-count",
   "metadata": {},
   "source": [
    "# Which country has the most profitable new coders?\n",
    "Profitable in this context is defined as new coders that would be willing to spent $59 per month on a subscription service to learn coding.\n",
    "\n",
    "MoneyForLearning indicated the amount of USD spent on learning how to code *from the moment they started coding*. This means we should be able to infer an approximate amount each respondent was willing to pay *per month*."
   ]
  },
  {
   "cell_type": "code",
   "execution_count": 178,
   "id": "exclusive-differential",
   "metadata": {},
   "outputs": [],
   "source": [
    "survey_filtered[\"MonthsProgramming\"]\n",
    "# treat 0 months programming as 1 (else we will divide by 0 in the next step)\n",
    "survey_filtered[\"Money/Month\"] = survey_filtered[\"MoneyForLearning\"] / \\\n",
    "    survey_filtered[\"MonthsProgramming\"].replace(0, 1)"
   ]
  },
  {
   "cell_type": "code",
   "execution_count": 179,
   "id": "atlantic-detective",
   "metadata": {},
   "outputs": [
    {
     "data": {
      "text/plain": [
       "6992"
      ]
     },
     "execution_count": 179,
     "metadata": {},
     "output_type": "execute_result"
    }
   ],
   "source": [
    "# how  many missing values for money/month?\n",
    "survey_filtered[\"Money/Month\"].isna().count()"
   ]
  },
  {
   "cell_type": "code",
   "execution_count": 190,
   "id": "limited-family",
   "metadata": {},
   "outputs": [
    {
     "data": {
      "text/plain": [
       "CountryLive\n",
       "United States of America    227.997996\n",
       "India                       135.100982\n",
       "Canada                      113.510961\n",
       "United Kingdom               45.534443\n",
       "Name: Money/Month, dtype: float64"
      ]
     },
     "execution_count": 190,
     "metadata": {},
     "output_type": "execute_result"
    }
   ],
   "source": [
    "# Filter out null values for Money/Month\n",
    "survey_filtered = survey_filtered[survey_filtered[\"Money/Month\"].notna()]\n",
    "# Group by country and get avg. amount spent/month - only for countries of interest\n",
    "mask = survey_filtered[\"CountryLive\"].isin([\"United States of America\", \"India\", \"United Kingdom\", \"Canada\"])\n",
    "country_group = survey_filtered[mask].groupby(\"CountryLive\")\n",
    "country_group[\"Money/Month\"].mean().sort_values(ascending=False)"
   ]
  },
  {
   "cell_type": "markdown",
   "id": "rubber-barrier",
   "metadata": {},
   "source": [
    "These values look counter-intuitive: Canada and UK are *lower* than the values for India. Given the GDP of these countries we should make sure, these are the correct values."
   ]
  },
  {
   "cell_type": "markdown",
   "id": "careful-premises",
   "metadata": {},
   "source": [
    "## Filter out extreme outliers"
   ]
  },
  {
   "cell_type": "code",
   "execution_count": 207,
   "id": "significant-departure",
   "metadata": {},
   "outputs": [
    {
     "data": {
      "text/plain": [
       "<AxesSubplot:title={'center':'Money/Month'}, xlabel='CountryLive'>"
      ]
     },
     "execution_count": 207,
     "metadata": {},
     "output_type": "execute_result"
    },
    {
     "data": {
      "image/png": "[encoded data removed]",
      "text/plain": [
       "<Figure size 504x504 with 1 Axes>"
      ]
     },
     "metadata": {
      "needs_background": "light"
     },
     "output_type": "display_data"
    }
   ],
   "source": [
    "# Inspect outliers\n",
    "survey_filtered[mask].boxplot(by=\"CountryLive\",column=\"Money/Month\",figsize=(7,7))"
   ]
  },
  {
   "cell_type": "code",
   "execution_count": 227,
   "id": "recovered-solution",
   "metadata": {},
   "outputs": [
    {
     "name": "stdout",
     "output_type": "stream",
     "text": [
      "200.0\n",
      "53.0\n",
      "81.66666666666666\n",
      "100.0\n"
     ]
    }
   ],
   "source": [
    "# Filter out extreme outliers (> IQR x3 rule)\n",
    "countries_interest_li = [\"United States of America\", \"India\", \"United Kingdom\", \"Canada\"]\n",
    "\n",
    "survey_top4_c = pd.DataFrame()\n",
    "\n",
    "for c in  countries_interest:\n",
    "    df = survey_filtered[survey_filtered[\"CountryLive\"]==c]\n",
    "    q1 = df[\"Money/Month\"].quantile(0.25)\n",
    "    q3 = df[\"Money/Month\"].quantile(0.75)\n",
    "    IQR = q3-q1\n",
    "    upper_bound = q3 + (IQR*3)\n",
    "    df = df[df[\"Money/Month\"]<=upper_bound]\n",
    "    print(upper_bound)\n",
    "    survey_top4_c = survey_top4_c.append(df)\n",
    "\n"
   ]
  },
  {
   "cell_type": "code",
   "execution_count": 225,
   "id": "geological-monaco",
   "metadata": {
    "scrolled": true
   },
   "outputs": [
    {
     "data": {
      "text/plain": [
       "<AxesSubplot:title={'center':'Money/Month'}, xlabel='CountryLive'>"
      ]
     },
     "execution_count": 225,
     "metadata": {},
     "output_type": "execute_result"
    },
    {
     "data": {
      "image/png": "[encoded data removed]",
      "text/plain": [
       "<Figure size 504x504 with 1 Axes>"
      ]
     },
     "metadata": {
      "needs_background": "light"
     },
     "output_type": "display_data"
    }
   ],
   "source": [
    "survey_top4_c.boxplot(by=\"CountryLive\",column=\"Money/Month\",figsize=(7,7))"
   ]
  },
  {
   "cell_type": "markdown",
   "id": "saved-myanmar",
   "metadata": {},
   "source": [
    "## Recompute Mean $/Month"
   ]
  },
  {
   "cell_type": "code",
   "execution_count": 226,
   "id": "straight-pattern",
   "metadata": {
    "scrolled": true
   },
   "outputs": [
    {
     "data": {
      "text/plain": [
       "CountryLive\n",
       "United States of America    20.544038\n",
       "Canada                       9.234253\n",
       "United Kingdom               8.875130\n",
       "India                        3.877864\n",
       "Name: Money/Month, dtype: float64"
      ]
     },
     "execution_count": 226,
     "metadata": {},
     "output_type": "execute_result"
    }
   ],
   "source": [
    "country_group = survey_top4_c.groupby(\"CountryLive\")\n",
    "country_group[\"Money/Month\"].mean().sort_values(ascending=False)"
   ]
  },
  {
   "cell_type": "markdown",
   "id": "rising-allowance",
   "metadata": {},
   "source": [
    "This suggests, that USA and Canada are on average more willing to spent the most money on learning (after filtering out values that seem unlikely). But in the following step we will look at the number of customer willing to spend above $59."
   ]
  },
  {
   "cell_type": "code",
   "execution_count": 240,
   "id": "ready-implement",
   "metadata": {},
   "outputs": [
    {
     "data": {
      "text/plain": [
       "CountryLive\n",
       "United States of America    664\n",
       "India                        75\n",
       "United Kingdom               43\n",
       "Canada                       40\n",
       "Australia                    22\n",
       "Name: Money/Month, dtype: int64"
      ]
     },
     "execution_count": 240,
     "metadata": {},
     "output_type": "execute_result"
    }
   ],
   "source": [
    "country_group2 = survey_filtered[survey_filtered[\"Money/Month\"]>59].groupby(\"CountryLive\")\n",
    "country_group2[\"Money/Month\"].count().sort_values(ascending=False).head(5)"
   ]
  }
 ],
 "metadata": {
  "kernelspec": {
   "display_name": "Python 3",
   "language": "python",
   "name": "python3"
  },
  "language_info": {
   "codemirror_mode": {
    "name": "ipython",
    "version": 3
   },
   "file_extension": ".py",
   "mimetype": "text/x-python",
   "name": "python",
   "nbconvert_exporter": "python",
   "pygments_lexer": "ipython3",
   "version": "3.8.10"
  },
  "toc": {
   "base_numbering": 1,
   "nav_menu": {},
   "number_sections": false,
   "sideBar": true,
   "skip_h1_title": false,
   "title_cell": "Table of Contents",
   "title_sidebar": "Contents",
   "toc_cell": false,
   "toc_position": {},
   "toc_section_display": true,
   "toc_window_display": false
  },
  "varInspector": {
   "cols": {
    "lenName": 16,
    "lenType": 16,
    "lenVar": 40
   },
   "kernels_config": {
    "python": {
     "delete_cmd_postfix": "",
     "delete_cmd_prefix": "del ",
     "library": "var_list.py",
     "varRefreshCmd": "print(var_dic_list())"
    },
    "r": {
     "delete_cmd_postfix": ") ",
     "delete_cmd_prefix": "rm(",
     "library": "var_list.r",
     "varRefreshCmd": "cat(var_dic_list()) "
    }
   },
   "types_to_exclude": [
    "module",
    "function",
    "builtin_function_or_method",
    "instance",
    "_Feature"
   ],
   "window_display": false
  }
 },
 "nbformat": 4,
 "nbformat_minor": 5
}
